{
 "cells": [
  {
   "cell_type": "code",
   "execution_count": 1,
   "id": "1605f396",
   "metadata": {},
   "outputs": [],
   "source": [
    "import pandas as pd\n",
    "import numpy as np\n",
    "import matplotlib.pyplot as plt\n",
    "from scipy.stats import norm"
   ]
  },
  {
   "cell_type": "code",
   "execution_count": 2,
   "id": "963693fa",
   "metadata": {},
   "outputs": [],
   "source": [
    "ms = pd.read_csv('C:/Users/hp/Desktop/Stock_Concepts/CSV/Microsoft_Stock.csv')"
   ]
  },
  {
   "cell_type": "code",
   "execution_count": 3,
   "id": "30e3dcbc",
   "metadata": {},
   "outputs": [
    {
     "data": {
      "text/html": [
       "<div>\n",
       "<style scoped>\n",
       "    .dataframe tbody tr th:only-of-type {\n",
       "        vertical-align: middle;\n",
       "    }\n",
       "\n",
       "    .dataframe tbody tr th {\n",
       "        vertical-align: top;\n",
       "    }\n",
       "\n",
       "    .dataframe thead th {\n",
       "        text-align: right;\n",
       "    }\n",
       "</style>\n",
       "<table border=\"1\" class=\"dataframe\">\n",
       "  <thead>\n",
       "    <tr style=\"text-align: right;\">\n",
       "      <th></th>\n",
       "      <th>Date</th>\n",
       "      <th>Open</th>\n",
       "      <th>High</th>\n",
       "      <th>Low</th>\n",
       "      <th>Close</th>\n",
       "      <th>Volume</th>\n",
       "    </tr>\n",
       "  </thead>\n",
       "  <tbody>\n",
       "    <tr>\n",
       "      <th>0</th>\n",
       "      <td>4/1/2015 16:00:00</td>\n",
       "      <td>40.60</td>\n",
       "      <td>40.76</td>\n",
       "      <td>40.31</td>\n",
       "      <td>40.72</td>\n",
       "      <td>36865322</td>\n",
       "    </tr>\n",
       "    <tr>\n",
       "      <th>1</th>\n",
       "      <td>4/2/2015 16:00:00</td>\n",
       "      <td>40.66</td>\n",
       "      <td>40.74</td>\n",
       "      <td>40.12</td>\n",
       "      <td>40.29</td>\n",
       "      <td>37487476</td>\n",
       "    </tr>\n",
       "    <tr>\n",
       "      <th>2</th>\n",
       "      <td>4/6/2015 16:00:00</td>\n",
       "      <td>40.34</td>\n",
       "      <td>41.78</td>\n",
       "      <td>40.18</td>\n",
       "      <td>41.55</td>\n",
       "      <td>39223692</td>\n",
       "    </tr>\n",
       "    <tr>\n",
       "      <th>3</th>\n",
       "      <td>4/7/2015 16:00:00</td>\n",
       "      <td>41.61</td>\n",
       "      <td>41.91</td>\n",
       "      <td>41.31</td>\n",
       "      <td>41.53</td>\n",
       "      <td>28809375</td>\n",
       "    </tr>\n",
       "    <tr>\n",
       "      <th>4</th>\n",
       "      <td>4/8/2015 16:00:00</td>\n",
       "      <td>41.48</td>\n",
       "      <td>41.69</td>\n",
       "      <td>41.04</td>\n",
       "      <td>41.42</td>\n",
       "      <td>24753438</td>\n",
       "    </tr>\n",
       "  </tbody>\n",
       "</table>\n",
       "</div>"
      ],
      "text/plain": [
       "                Date   Open   High    Low  Close    Volume\n",
       "0  4/1/2015 16:00:00  40.60  40.76  40.31  40.72  36865322\n",
       "1  4/2/2015 16:00:00  40.66  40.74  40.12  40.29  37487476\n",
       "2  4/6/2015 16:00:00  40.34  41.78  40.18  41.55  39223692\n",
       "3  4/7/2015 16:00:00  41.61  41.91  41.31  41.53  28809375\n",
       "4  4/8/2015 16:00:00  41.48  41.69  41.04  41.42  24753438"
      ]
     },
     "execution_count": 3,
     "metadata": {},
     "output_type": "execute_result"
    }
   ],
   "source": [
    "ms.head()"
   ]
  },
  {
   "cell_type": "code",
   "execution_count": 26,
   "id": "936a791a",
   "metadata": {},
   "outputs": [],
   "source": [
    "ms['Date'].replace('16:00:00', '', regex=True, inplace=True)\n",
    "ms['Price1'] =  ms['Close'].shift(-1)"
   ]
  },
  {
   "cell_type": "code",
   "execution_count": 5,
   "id": "39b8696b",
   "metadata": {},
   "outputs": [],
   "source": [
    "ms['PriceDiff'] = ms['Price1']-ms['Close']"
   ]
  },
  {
   "cell_type": "code",
   "execution_count": 6,
   "id": "e5be7dc5",
   "metadata": {},
   "outputs": [],
   "source": [
    "ms['Return'] = ms['PriceDiff']/ms['Close']"
   ]
  },
  {
   "cell_type": "code",
   "execution_count": 7,
   "id": "dd1d11df",
   "metadata": {},
   "outputs": [],
   "source": [
    "ms['Direction'] = [1 if ms.loc[i,'PriceDiff']>0 else -1 for i in ms.index]"
   ]
  },
  {
   "cell_type": "code",
   "execution_count": 8,
   "id": "ab9e96ab",
   "metadata": {},
   "outputs": [],
   "source": [
    "ms['avgDay3'] = (ms['Close']+ms['Close'].shift(1)+ms['Close'].shift(2))/3"
   ]
  },
  {
   "cell_type": "code",
   "execution_count": 27,
   "id": "367bc925",
   "metadata": {},
   "outputs": [
    {
     "data": {
      "text/html": [
       "<div>\n",
       "<style scoped>\n",
       "    .dataframe tbody tr th:only-of-type {\n",
       "        vertical-align: middle;\n",
       "    }\n",
       "\n",
       "    .dataframe tbody tr th {\n",
       "        vertical-align: top;\n",
       "    }\n",
       "\n",
       "    .dataframe thead th {\n",
       "        text-align: right;\n",
       "    }\n",
       "</style>\n",
       "<table border=\"1\" class=\"dataframe\">\n",
       "  <thead>\n",
       "    <tr style=\"text-align: right;\">\n",
       "      <th></th>\n",
       "      <th>Date</th>\n",
       "      <th>Open</th>\n",
       "      <th>High</th>\n",
       "      <th>Low</th>\n",
       "      <th>Close</th>\n",
       "      <th>Volume</th>\n",
       "      <th>Price1</th>\n",
       "      <th>PriceDiff</th>\n",
       "      <th>Return</th>\n",
       "      <th>Direction</th>\n",
       "      <th>avgDay3</th>\n",
       "      <th>MA10</th>\n",
       "      <th>MA30</th>\n",
       "      <th>MA50</th>\n",
       "      <th>MA180</th>\n",
       "      <th>Share</th>\n",
       "      <th>Profit</th>\n",
       "      <th>Wealth</th>\n",
       "      <th>LogReturn</th>\n",
       "    </tr>\n",
       "  </thead>\n",
       "  <tbody>\n",
       "    <tr>\n",
       "      <th>0</th>\n",
       "      <td>4/1/2015</td>\n",
       "      <td>40.60</td>\n",
       "      <td>40.76</td>\n",
       "      <td>40.31</td>\n",
       "      <td>40.72</td>\n",
       "      <td>36865322</td>\n",
       "      <td>40.29</td>\n",
       "      <td>-0.43</td>\n",
       "      <td>-0.010560</td>\n",
       "      <td>-1</td>\n",
       "      <td>NaN</td>\n",
       "      <td>NaN</td>\n",
       "      <td>NaN</td>\n",
       "      <td>NaN</td>\n",
       "      <td>NaN</td>\n",
       "      <td>0</td>\n",
       "      <td>0.0</td>\n",
       "      <td>0.0</td>\n",
       "      <td>-0.010616</td>\n",
       "    </tr>\n",
       "    <tr>\n",
       "      <th>1</th>\n",
       "      <td>4/2/2015</td>\n",
       "      <td>40.66</td>\n",
       "      <td>40.74</td>\n",
       "      <td>40.12</td>\n",
       "      <td>40.29</td>\n",
       "      <td>37487476</td>\n",
       "      <td>41.55</td>\n",
       "      <td>1.26</td>\n",
       "      <td>0.031273</td>\n",
       "      <td>1</td>\n",
       "      <td>NaN</td>\n",
       "      <td>NaN</td>\n",
       "      <td>NaN</td>\n",
       "      <td>NaN</td>\n",
       "      <td>NaN</td>\n",
       "      <td>0</td>\n",
       "      <td>0.0</td>\n",
       "      <td>0.0</td>\n",
       "      <td>0.030794</td>\n",
       "    </tr>\n",
       "    <tr>\n",
       "      <th>2</th>\n",
       "      <td>4/6/2015</td>\n",
       "      <td>40.34</td>\n",
       "      <td>41.78</td>\n",
       "      <td>40.18</td>\n",
       "      <td>41.55</td>\n",
       "      <td>39223692</td>\n",
       "      <td>41.53</td>\n",
       "      <td>-0.02</td>\n",
       "      <td>-0.000481</td>\n",
       "      <td>-1</td>\n",
       "      <td>40.853333</td>\n",
       "      <td>NaN</td>\n",
       "      <td>NaN</td>\n",
       "      <td>NaN</td>\n",
       "      <td>NaN</td>\n",
       "      <td>0</td>\n",
       "      <td>0.0</td>\n",
       "      <td>0.0</td>\n",
       "      <td>-0.000481</td>\n",
       "    </tr>\n",
       "    <tr>\n",
       "      <th>3</th>\n",
       "      <td>4/7/2015</td>\n",
       "      <td>41.61</td>\n",
       "      <td>41.91</td>\n",
       "      <td>41.31</td>\n",
       "      <td>41.53</td>\n",
       "      <td>28809375</td>\n",
       "      <td>41.42</td>\n",
       "      <td>-0.11</td>\n",
       "      <td>-0.002649</td>\n",
       "      <td>-1</td>\n",
       "      <td>41.123333</td>\n",
       "      <td>NaN</td>\n",
       "      <td>NaN</td>\n",
       "      <td>NaN</td>\n",
       "      <td>NaN</td>\n",
       "      <td>0</td>\n",
       "      <td>0.0</td>\n",
       "      <td>0.0</td>\n",
       "      <td>-0.002652</td>\n",
       "    </tr>\n",
       "    <tr>\n",
       "      <th>4</th>\n",
       "      <td>4/8/2015</td>\n",
       "      <td>41.48</td>\n",
       "      <td>41.69</td>\n",
       "      <td>41.04</td>\n",
       "      <td>41.42</td>\n",
       "      <td>24753438</td>\n",
       "      <td>41.48</td>\n",
       "      <td>0.06</td>\n",
       "      <td>0.001449</td>\n",
       "      <td>1</td>\n",
       "      <td>41.500000</td>\n",
       "      <td>NaN</td>\n",
       "      <td>NaN</td>\n",
       "      <td>NaN</td>\n",
       "      <td>NaN</td>\n",
       "      <td>0</td>\n",
       "      <td>0.0</td>\n",
       "      <td>0.0</td>\n",
       "      <td>0.001448</td>\n",
       "    </tr>\n",
       "  </tbody>\n",
       "</table>\n",
       "</div>"
      ],
      "text/plain": [
       "        Date   Open   High    Low  Close    Volume  Price1  PriceDiff  \\\n",
       "0  4/1/2015   40.60  40.76  40.31  40.72  36865322   40.29      -0.43   \n",
       "1  4/2/2015   40.66  40.74  40.12  40.29  37487476   41.55       1.26   \n",
       "2  4/6/2015   40.34  41.78  40.18  41.55  39223692   41.53      -0.02   \n",
       "3  4/7/2015   41.61  41.91  41.31  41.53  28809375   41.42      -0.11   \n",
       "4  4/8/2015   41.48  41.69  41.04  41.42  24753438   41.48       0.06   \n",
       "\n",
       "     Return  Direction    avgDay3  MA10  MA30  MA50  MA180  Share  Profit  \\\n",
       "0 -0.010560         -1        NaN   NaN   NaN   NaN    NaN      0     0.0   \n",
       "1  0.031273          1        NaN   NaN   NaN   NaN    NaN      0     0.0   \n",
       "2 -0.000481         -1  40.853333   NaN   NaN   NaN    NaN      0     0.0   \n",
       "3 -0.002649         -1  41.123333   NaN   NaN   NaN    NaN      0     0.0   \n",
       "4  0.001449          1  41.500000   NaN   NaN   NaN    NaN      0     0.0   \n",
       "\n",
       "   Wealth  LogReturn  \n",
       "0     0.0  -0.010616  \n",
       "1     0.0   0.030794  \n",
       "2     0.0  -0.000481  \n",
       "3     0.0  -0.002652  \n",
       "4     0.0   0.001448  "
      ]
     },
     "execution_count": 27,
     "metadata": {},
     "output_type": "execute_result"
    }
   ],
   "source": [
    "ms.head()"
   ]
  },
  {
   "cell_type": "code",
   "execution_count": 10,
   "id": "f97329f7",
   "metadata": {},
   "outputs": [],
   "source": [
    "ms['MA10']= ms['Close'].rolling(10).mean()\n",
    "ms['MA30']= ms['Close'].rolling(30).mean()\n",
    "ms['MA50']= ms['Close'].rolling(50).mean()\n",
    "ms['MA180']= ms['Close'].rolling(180).mean()\n"
   ]
  },
  {
   "cell_type": "code",
   "execution_count": 28,
   "id": "70b414f0",
   "metadata": {},
   "outputs": [
    {
     "data": {
      "text/plain": [
       "<matplotlib.legend.Legend at 0x2c1c701a640>"
      ]
     },
     "execution_count": 28,
     "metadata": {},
     "output_type": "execute_result"
    },
    {
     "data": {
      "image/png": "[encoded data removed]",
      "text/plain": [
       "<Figure size 1080x576 with 1 Axes>"
      ]
     },
     "metadata": {
      "needs_background": "light"
     },
     "output_type": "display_data"
    }
   ],
   "source": [
    "ms.plot(kind='line', x='Date', y='Close', figsize=(15,8))\n",
    "ms['MA10'].plot()\n",
    "ms['MA30'].plot()\n",
    "ms['MA180'].plot()\n",
    "plt.legend()\n",
    "\n"
   ]
  },
  {
   "cell_type": "markdown",
   "id": "a2f75cba",
   "metadata": {},
   "source": [
    "# MA10 and MA30 has fast signal whereas MA180 has slow signal"
   ]
  },
  {
   "cell_type": "code",
   "execution_count": 12,
   "id": "28928429",
   "metadata": {},
   "outputs": [],
   "source": [
    "# --SHARE--\n",
    "ms['Share'] = [1 if ms.loc[i,'MA10']>ms.loc[i,'MA30'] else 0 for i in ms.index]"
   ]
  },
  {
   "cell_type": "code",
   "execution_count": 13,
   "id": "d19b0224",
   "metadata": {},
   "outputs": [],
   "source": [
    "#--PROFIT--\n",
    "ms['Profit'] = [ms.loc[i,'Price1']-ms.loc[i,'Close'] if ms.loc[i,'Share']==1 else 0 for i in ms.index]"
   ]
  },
  {
   "cell_type": "code",
   "execution_count": 14,
   "id": "da7f761b",
   "metadata": {},
   "outputs": [
    {
     "data": {
      "text/html": [
       "<div>\n",
       "<style scoped>\n",
       "    .dataframe tbody tr th:only-of-type {\n",
       "        vertical-align: middle;\n",
       "    }\n",
       "\n",
       "    .dataframe tbody tr th {\n",
       "        vertical-align: top;\n",
       "    }\n",
       "\n",
       "    .dataframe thead th {\n",
       "        text-align: right;\n",
       "    }\n",
       "</style>\n",
       "<table border=\"1\" class=\"dataframe\">\n",
       "  <thead>\n",
       "    <tr style=\"text-align: right;\">\n",
       "      <th></th>\n",
       "      <th>Date</th>\n",
       "      <th>Open</th>\n",
       "      <th>High</th>\n",
       "      <th>Low</th>\n",
       "      <th>Close</th>\n",
       "      <th>Volume</th>\n",
       "      <th>Price1</th>\n",
       "      <th>PriceDiff</th>\n",
       "      <th>Return</th>\n",
       "      <th>Direction</th>\n",
       "      <th>avgDay3</th>\n",
       "      <th>MA10</th>\n",
       "      <th>MA30</th>\n",
       "      <th>MA50</th>\n",
       "      <th>MA180</th>\n",
       "      <th>Share</th>\n",
       "      <th>Profit</th>\n",
       "    </tr>\n",
       "  </thead>\n",
       "  <tbody>\n",
       "    <tr>\n",
       "      <th>0</th>\n",
       "      <td>4/1/2015 16:00:00</td>\n",
       "      <td>40.60</td>\n",
       "      <td>40.76</td>\n",
       "      <td>40.31</td>\n",
       "      <td>40.72</td>\n",
       "      <td>36865322</td>\n",
       "      <td>40.29</td>\n",
       "      <td>-0.43</td>\n",
       "      <td>-0.010560</td>\n",
       "      <td>-1</td>\n",
       "      <td>NaN</td>\n",
       "      <td>NaN</td>\n",
       "      <td>NaN</td>\n",
       "      <td>NaN</td>\n",
       "      <td>NaN</td>\n",
       "      <td>0</td>\n",
       "      <td>0.0</td>\n",
       "    </tr>\n",
       "    <tr>\n",
       "      <th>1</th>\n",
       "      <td>4/2/2015 16:00:00</td>\n",
       "      <td>40.66</td>\n",
       "      <td>40.74</td>\n",
       "      <td>40.12</td>\n",
       "      <td>40.29</td>\n",
       "      <td>37487476</td>\n",
       "      <td>41.55</td>\n",
       "      <td>1.26</td>\n",
       "      <td>0.031273</td>\n",
       "      <td>1</td>\n",
       "      <td>NaN</td>\n",
       "      <td>NaN</td>\n",
       "      <td>NaN</td>\n",
       "      <td>NaN</td>\n",
       "      <td>NaN</td>\n",
       "      <td>0</td>\n",
       "      <td>0.0</td>\n",
       "    </tr>\n",
       "    <tr>\n",
       "      <th>2</th>\n",
       "      <td>4/6/2015 16:00:00</td>\n",
       "      <td>40.34</td>\n",
       "      <td>41.78</td>\n",
       "      <td>40.18</td>\n",
       "      <td>41.55</td>\n",
       "      <td>39223692</td>\n",
       "      <td>41.53</td>\n",
       "      <td>-0.02</td>\n",
       "      <td>-0.000481</td>\n",
       "      <td>-1</td>\n",
       "      <td>40.853333</td>\n",
       "      <td>NaN</td>\n",
       "      <td>NaN</td>\n",
       "      <td>NaN</td>\n",
       "      <td>NaN</td>\n",
       "      <td>0</td>\n",
       "      <td>0.0</td>\n",
       "    </tr>\n",
       "    <tr>\n",
       "      <th>3</th>\n",
       "      <td>4/7/2015 16:00:00</td>\n",
       "      <td>41.61</td>\n",
       "      <td>41.91</td>\n",
       "      <td>41.31</td>\n",
       "      <td>41.53</td>\n",
       "      <td>28809375</td>\n",
       "      <td>41.42</td>\n",
       "      <td>-0.11</td>\n",
       "      <td>-0.002649</td>\n",
       "      <td>-1</td>\n",
       "      <td>41.123333</td>\n",
       "      <td>NaN</td>\n",
       "      <td>NaN</td>\n",
       "      <td>NaN</td>\n",
       "      <td>NaN</td>\n",
       "      <td>0</td>\n",
       "      <td>0.0</td>\n",
       "    </tr>\n",
       "    <tr>\n",
       "      <th>4</th>\n",
       "      <td>4/8/2015 16:00:00</td>\n",
       "      <td>41.48</td>\n",
       "      <td>41.69</td>\n",
       "      <td>41.04</td>\n",
       "      <td>41.42</td>\n",
       "      <td>24753438</td>\n",
       "      <td>41.48</td>\n",
       "      <td>0.06</td>\n",
       "      <td>0.001449</td>\n",
       "      <td>1</td>\n",
       "      <td>41.500000</td>\n",
       "      <td>NaN</td>\n",
       "      <td>NaN</td>\n",
       "      <td>NaN</td>\n",
       "      <td>NaN</td>\n",
       "      <td>0</td>\n",
       "      <td>0.0</td>\n",
       "    </tr>\n",
       "  </tbody>\n",
       "</table>\n",
       "</div>"
      ],
      "text/plain": [
       "                Date   Open   High    Low  Close    Volume  Price1  PriceDiff  \\\n",
       "0  4/1/2015 16:00:00  40.60  40.76  40.31  40.72  36865322   40.29      -0.43   \n",
       "1  4/2/2015 16:00:00  40.66  40.74  40.12  40.29  37487476   41.55       1.26   \n",
       "2  4/6/2015 16:00:00  40.34  41.78  40.18  41.55  39223692   41.53      -0.02   \n",
       "3  4/7/2015 16:00:00  41.61  41.91  41.31  41.53  28809375   41.42      -0.11   \n",
       "4  4/8/2015 16:00:00  41.48  41.69  41.04  41.42  24753438   41.48       0.06   \n",
       "\n",
       "     Return  Direction    avgDay3  MA10  MA30  MA50  MA180  Share  Profit  \n",
       "0 -0.010560         -1        NaN   NaN   NaN   NaN    NaN      0     0.0  \n",
       "1  0.031273          1        NaN   NaN   NaN   NaN    NaN      0     0.0  \n",
       "2 -0.000481         -1  40.853333   NaN   NaN   NaN    NaN      0     0.0  \n",
       "3 -0.002649         -1  41.123333   NaN   NaN   NaN    NaN      0     0.0  \n",
       "4  0.001449          1  41.500000   NaN   NaN   NaN    NaN      0     0.0  "
      ]
     },
     "execution_count": 14,
     "metadata": {},
     "output_type": "execute_result"
    }
   ],
   "source": [
    "ms.head()"
   ]
  },
  {
   "cell_type": "code",
   "execution_count": 29,
   "id": "4bd5e751",
   "metadata": {},
   "outputs": [
    {
     "data": {
      "text/plain": [
       "<matplotlib.lines.Line2D at 0x2c1c3503340>"
      ]
     },
     "execution_count": 29,
     "metadata": {},
     "output_type": "execute_result"
    },
    {
     "data": {
      "image/png": "[encoded data removed]",
      "text/plain": [
       "<Figure size 1080x432 with 1 Axes>"
      ]
     },
     "metadata": {
      "needs_background": "light"
     },
     "output_type": "display_data"
    }
   ],
   "source": [
    "ms.plot(kind='line',x='Date',y='Profit', figsize=(15,6))\n",
    "plt.axhline(y=0, color='red')"
   ]
  },
  {
   "cell_type": "markdown",
   "id": "c88cf3b8",
   "metadata": {},
   "source": [
    "From above, we can see that profit on the positive axis but negative axis shows that we can loss money"
   ]
  },
  {
   "cell_type": "code",
   "execution_count": 16,
   "id": "ef4c33d8",
   "metadata": {},
   "outputs": [],
   "source": [
    "# cumsum of profit = wealth\n",
    "ms['Wealth'] = ms['Profit'].cumsum()\n"
   ]
  },
  {
   "cell_type": "code",
   "execution_count": 17,
   "id": "339a0479",
   "metadata": {},
   "outputs": [
    {
     "data": {
      "text/html": [
       "<div>\n",
       "<style scoped>\n",
       "    .dataframe tbody tr th:only-of-type {\n",
       "        vertical-align: middle;\n",
       "    }\n",
       "\n",
       "    .dataframe tbody tr th {\n",
       "        vertical-align: top;\n",
       "    }\n",
       "\n",
       "    .dataframe thead th {\n",
       "        text-align: right;\n",
       "    }\n",
       "</style>\n",
       "<table border=\"1\" class=\"dataframe\">\n",
       "  <thead>\n",
       "    <tr style=\"text-align: right;\">\n",
       "      <th></th>\n",
       "      <th>Date</th>\n",
       "      <th>Open</th>\n",
       "      <th>High</th>\n",
       "      <th>Low</th>\n",
       "      <th>Close</th>\n",
       "      <th>Volume</th>\n",
       "      <th>Price1</th>\n",
       "      <th>PriceDiff</th>\n",
       "      <th>Return</th>\n",
       "      <th>Direction</th>\n",
       "      <th>avgDay3</th>\n",
       "      <th>MA10</th>\n",
       "      <th>MA30</th>\n",
       "      <th>MA50</th>\n",
       "      <th>MA180</th>\n",
       "      <th>Share</th>\n",
       "      <th>Profit</th>\n",
       "      <th>Wealth</th>\n",
       "    </tr>\n",
       "  </thead>\n",
       "  <tbody>\n",
       "    <tr>\n",
       "      <th>1506</th>\n",
       "      <td>3/25/2021 16:00:00</td>\n",
       "      <td>235.30</td>\n",
       "      <td>236.94</td>\n",
       "      <td>231.57</td>\n",
       "      <td>232.34</td>\n",
       "      <td>34061853</td>\n",
       "      <td>236.48</td>\n",
       "      <td>4.14</td>\n",
       "      <td>0.017819</td>\n",
       "      <td>1</td>\n",
       "      <td>235.126667</td>\n",
       "      <td>234.775</td>\n",
       "      <td>235.367</td>\n",
       "      <td>233.9160</td>\n",
       "      <td>218.749611</td>\n",
       "      <td>0</td>\n",
       "      <td>0.00</td>\n",
       "      <td>89.65</td>\n",
       "    </tr>\n",
       "    <tr>\n",
       "      <th>1507</th>\n",
       "      <td>3/26/2021 16:00:00</td>\n",
       "      <td>231.55</td>\n",
       "      <td>236.71</td>\n",
       "      <td>231.55</td>\n",
       "      <td>236.48</td>\n",
       "      <td>25479853</td>\n",
       "      <td>235.24</td>\n",
       "      <td>-1.24</td>\n",
       "      <td>-0.005244</td>\n",
       "      <td>-1</td>\n",
       "      <td>234.760000</td>\n",
       "      <td>234.848</td>\n",
       "      <td>235.100</td>\n",
       "      <td>234.3188</td>\n",
       "      <td>218.872722</td>\n",
       "      <td>0</td>\n",
       "      <td>0.00</td>\n",
       "      <td>89.65</td>\n",
       "    </tr>\n",
       "    <tr>\n",
       "      <th>1508</th>\n",
       "      <td>3/29/2021 16:00:00</td>\n",
       "      <td>236.59</td>\n",
       "      <td>236.80</td>\n",
       "      <td>231.88</td>\n",
       "      <td>235.24</td>\n",
       "      <td>25227455</td>\n",
       "      <td>231.85</td>\n",
       "      <td>-3.39</td>\n",
       "      <td>-0.014411</td>\n",
       "      <td>-1</td>\n",
       "      <td>234.686667</td>\n",
       "      <td>234.891</td>\n",
       "      <td>234.775</td>\n",
       "      <td>234.7632</td>\n",
       "      <td>218.992556</td>\n",
       "      <td>1</td>\n",
       "      <td>-3.39</td>\n",
       "      <td>86.26</td>\n",
       "    </tr>\n",
       "    <tr>\n",
       "      <th>1509</th>\n",
       "      <td>3/30/2021 16:00:00</td>\n",
       "      <td>233.53</td>\n",
       "      <td>233.85</td>\n",
       "      <td>231.10</td>\n",
       "      <td>231.85</td>\n",
       "      <td>24792012</td>\n",
       "      <td>235.77</td>\n",
       "      <td>3.92</td>\n",
       "      <td>0.016907</td>\n",
       "      <td>1</td>\n",
       "      <td>234.523333</td>\n",
       "      <td>234.305</td>\n",
       "      <td>234.380</td>\n",
       "      <td>235.1472</td>\n",
       "      <td>219.130222</td>\n",
       "      <td>0</td>\n",
       "      <td>0.00</td>\n",
       "      <td>86.26</td>\n",
       "    </tr>\n",
       "    <tr>\n",
       "      <th>1510</th>\n",
       "      <td>3/31/2021 16:00:00</td>\n",
       "      <td>232.91</td>\n",
       "      <td>239.10</td>\n",
       "      <td>232.39</td>\n",
       "      <td>235.77</td>\n",
       "      <td>43623471</td>\n",
       "      <td>NaN</td>\n",
       "      <td>NaN</td>\n",
       "      <td>NaN</td>\n",
       "      <td>-1</td>\n",
       "      <td>234.286667</td>\n",
       "      <td>234.178</td>\n",
       "      <td>234.099</td>\n",
       "      <td>235.5338</td>\n",
       "      <td>219.282556</td>\n",
       "      <td>1</td>\n",
       "      <td>NaN</td>\n",
       "      <td>NaN</td>\n",
       "    </tr>\n",
       "  </tbody>\n",
       "</table>\n",
       "</div>"
      ],
      "text/plain": [
       "                    Date    Open    High     Low   Close    Volume  Price1  \\\n",
       "1506  3/25/2021 16:00:00  235.30  236.94  231.57  232.34  34061853  236.48   \n",
       "1507  3/26/2021 16:00:00  231.55  236.71  231.55  236.48  25479853  235.24   \n",
       "1508  3/29/2021 16:00:00  236.59  236.80  231.88  235.24  25227455  231.85   \n",
       "1509  3/30/2021 16:00:00  233.53  233.85  231.10  231.85  24792012  235.77   \n",
       "1510  3/31/2021 16:00:00  232.91  239.10  232.39  235.77  43623471     NaN   \n",
       "\n",
       "      PriceDiff    Return  Direction     avgDay3     MA10     MA30      MA50  \\\n",
       "1506       4.14  0.017819          1  235.126667  234.775  235.367  233.9160   \n",
       "1507      -1.24 -0.005244         -1  234.760000  234.848  235.100  234.3188   \n",
       "1508      -3.39 -0.014411         -1  234.686667  234.891  234.775  234.7632   \n",
       "1509       3.92  0.016907          1  234.523333  234.305  234.380  235.1472   \n",
       "1510        NaN       NaN         -1  234.286667  234.178  234.099  235.5338   \n",
       "\n",
       "           MA180  Share  Profit  Wealth  \n",
       "1506  218.749611      0    0.00   89.65  \n",
       "1507  218.872722      0    0.00   89.65  \n",
       "1508  218.992556      1   -3.39   86.26  \n",
       "1509  219.130222      0    0.00   86.26  \n",
       "1510  219.282556      1     NaN     NaN  "
      ]
     },
     "execution_count": 17,
     "metadata": {},
     "output_type": "execute_result"
    }
   ],
   "source": [
    "ms.tail()"
   ]
  },
  {
   "cell_type": "code",
   "execution_count": 30,
   "id": "797c5996",
   "metadata": {},
   "outputs": [
    {
     "data": {
      "text/plain": [
       "<AxesSubplot:xlabel='Date'>"
      ]
     },
     "execution_count": 30,
     "metadata": {},
     "output_type": "execute_result"
    },
    {
     "data": {
      "image/png": "[encoded data removed]",
      "text/plain": [
       "<Figure size 1008x432 with 1 Axes>"
      ]
     },
     "metadata": {
      "needs_background": "light"
     },
     "output_type": "display_data"
    }
   ],
   "source": [
    "ms.plot(kind='line',x='Date',y='Wealth', figsize=(14,6))"
   ]
  },
  {
   "cell_type": "markdown",
   "id": "850108eb",
   "metadata": {},
   "source": [
    "As we can see, wealth is increasing dramatically between 1/7/2020 to 10/21/2020.\n",
    "Also there is a decreasing pattern of wealth around september/2018 to december/2018."
   ]
  },
  {
   "cell_type": "code",
   "execution_count": 20,
   "id": "91405f39",
   "metadata": {},
   "outputs": [],
   "source": [
    "# let play around with ms data by calculating the log daily return\n",
    "ms['LogReturn'] = np.log(ms['Close']).shift(-1)-np.log(ms['Close'])"
   ]
  },
  {
   "cell_type": "code",
   "execution_count": 21,
   "id": "06468e59",
   "metadata": {},
   "outputs": [
    {
     "data": {
      "image/png": "[encoded data removed]",
      "text/plain": [
       "<Figure size 864x432 with 1 Axes>"
      ]
     },
     "metadata": {
      "needs_background": "light"
     },
     "output_type": "display_data"
    }
   ],
   "source": [
    "# Plot a histogram to show the distribution of log return of Microsoft's stock. \n",
    "# You can see it is very close to a normal distribution\n",
    "mu = ms['LogReturn'].mean()\n",
    "sigma = ms['LogReturn'].std(ddof=1)\n",
    "density = pd.DataFrame()\n",
    "density['x']=np.arange(ms['LogReturn'].min()-0.01, ms['LogReturn'].max()+0.01, 0.001)\n",
    "density['pdf']=norm.pdf(density['x'], mu,sigma)\n",
    "ms['LogReturn'].hist(bins=50,figsize=(12,6))\n",
    "plt.plot(density['x'],density['pdf'], color='red')\n",
    "plt.show()\n"
   ]
  },
  {
   "cell_type": "markdown",
   "id": "0f390dee",
   "metadata": {},
   "source": [
    "# Calculate the probability of the stock price will drop over a certain percentage in a day"
   ]
  },
  {
   "cell_type": "code",
   "execution_count": 22,
   "id": "e99dd186",
   "metadata": {},
   "outputs": [
    {
     "name": "stdout",
     "output_type": "stream",
     "text": [
      "Probability is : 0.0016606316482849688\n"
     ]
    }
   ],
   "source": [
    "# probability that the stock price of microsoft will drop over 5% in a day\n",
    "prob_return1 = norm.cdf(-0.05,mu,sigma)\n",
    "print('Probability is :', prob_return1)"
   ]
  },
  {
   "cell_type": "code",
   "execution_count": 23,
   "id": "707d54cb",
   "metadata": {},
   "outputs": [
    {
     "name": "stdout",
     "output_type": "stream",
     "text": [
      "Probability is : 3.2010008121545963e-09\n"
     ]
    }
   ],
   "source": [
    "# probability that the stock price of microsoft will drop over 10% in a day\n",
    "prob_return2 = norm.cdf(-0.10,mu,sigma)\n",
    "print(\"Probability is :\", prob_return2)"
   ]
  },
  {
   "cell_type": "code",
   "execution_count": 24,
   "id": "dd1f4e19",
   "metadata": {},
   "outputs": [
    {
     "name": "stdout",
     "output_type": "stream",
     "text": [
      "The probability of dropping over 20% in 180 days is ' : 0.03996921332351078\n"
     ]
    }
   ],
   "source": [
    "#Drop over 20% in 180days\n",
    "mu180 = 180*mu\n",
    "sigma180 = (180**0.5)*sigma\n",
    "prob_return180 = norm.cdf(-0.20,mu180,sigma180)\n",
    "print(\"The probability of dropping over 20% in 180 days is ' :\", prob_return180)"
   ]
  },
  {
   "cell_type": "markdown",
   "id": "f2424150",
   "metadata": {},
   "source": [
    "# Calculate Value at risk (VaR)"
   ]
  },
  {
   "cell_type": "code",
   "execution_count": 25,
   "id": "885b8fd3",
   "metadata": {},
   "outputs": [
    {
     "name": "stdout",
     "output_type": "stream",
     "text": [
      "Single Day Value at risk  -0.027497194097679072\n"
     ]
    }
   ],
   "source": [
    "# Value at risk(VaR)\n",
    "VaR = norm.ppf(0.05,mu,sigma)\n",
    "print('Single Day Value at risk ', VaR)"
   ]
  },
  {
   "cell_type": "code",
   "execution_count": null,
   "id": "2d06f7cf",
   "metadata": {},
   "outputs": [],
   "source": []
  }
 ],
 "metadata": {
  "kernelspec": {
   "display_name": "Python 3",
   "language": "python",
   "name": "python3"
  },
  "language_info": {
   "codemirror_mode": {
    "name": "ipython",
    "version": 3
   },
   "file_extension": ".py",
   "mimetype": "text/x-python",
   "name": "python",
   "nbconvert_exporter": "python",
   "pygments_lexer": "ipython3",
   "version": "3.8.8"
  }
 },
 "nbformat": 4,
 "nbformat_minor": 5
}

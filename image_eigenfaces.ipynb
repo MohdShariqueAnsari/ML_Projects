{
 "cells": [
  {
   "cell_type": "code",
   "execution_count": 1,
   "id": "f11de2c3",
   "metadata": {},
   "outputs": [],
   "source": [
    "import numpy as np\n",
    "from sklearn.datasets import fetch_olivetti_faces"
   ]
  },
  {
   "cell_type": "code",
   "execution_count": 2,
   "id": "d381011b",
   "metadata": {},
   "outputs": [
    {
     "name": "stdout",
     "output_type": "stream",
     "text": [
      "downloading Olivetti faces from https://ndownloader.figshare.com/files/5976027 to C:\\Users\\hp\\scikit_learn_data\n"
     ]
    }
   ],
   "source": [
    "dataset = fetch_olivetti_faces(shuffle=True, random_state=101)"
   ]
  },
  {
   "cell_type": "code",
   "execution_count": 4,
   "id": "5ef6ffd5",
   "metadata": {},
   "outputs": [
    {
     "name": "stdout",
     "output_type": "stream",
     "text": [
      ".. _olivetti_faces_dataset:\n",
      "\n",
      "The Olivetti faces dataset\n",
      "--------------------------\n",
      "\n",
      "`This dataset contains a set of face images`_ taken between April 1992 and \n",
      "April 1994 at AT&T Laboratories Cambridge. The\n",
      ":func:`sklearn.datasets.fetch_olivetti_faces` function is the data\n",
      "fetching / caching function that downloads the data\n",
      "archive from AT&T.\n",
      "\n",
      ".. _This dataset contains a set of face images: http://www.cl.cam.ac.uk/research/dtg/attarchive/facedatabase.html\n",
      "\n",
      "As described on the original website:\n",
      "\n",
      "    There are ten different images of each of 40 distinct subjects. For some\n",
      "    subjects, the images were taken at different times, varying the lighting,\n",
      "    facial expressions (open / closed eyes, smiling / not smiling) and facial\n",
      "    details (glasses / no glasses). All the images were taken against a dark\n",
      "    homogeneous background with the subjects in an upright, frontal position \n",
      "    (with tolerance for some side movement).\n",
      "\n",
      "**Data Set Characteristics:**\n",
      "\n",
      "    =================   =====================\n",
      "    Classes                                40\n",
      "    Samples total                         400\n",
      "    Dimensionality                       4096\n",
      "    Features            real, between 0 and 1\n",
      "    =================   =====================\n",
      "\n",
      "The image is quantized to 256 grey levels and stored as unsigned 8-bit \n",
      "integers; the loader will convert these to floating point values on the \n",
      "interval [0, 1], which are easier to work with for many algorithms.\n",
      "\n",
      "The \"target\" for this database is an integer from 0 to 39 indicating the\n",
      "identity of the person pictured; however, with only 10 examples per class, this\n",
      "relatively small dataset is more interesting from an unsupervised or\n",
      "semi-supervised perspective.\n",
      "\n",
      "The original dataset consisted of 92 x 112, while the version available here\n",
      "consists of 64x64 images.\n",
      "\n",
      "When using these images, please give credit to AT&T Laboratories Cambridge.\n",
      "\n"
     ]
    }
   ],
   "source": [
    "print(dataset.DESCR)"
   ]
  },
  {
   "cell_type": "code",
   "execution_count": 5,
   "id": "46fcb12e",
   "metadata": {},
   "outputs": [
    {
     "data": {
      "text/plain": [
       "array([[0.7231405 , 0.7231405 , 0.72727275, ..., 0.22727273, 0.21900827,\n",
       "        0.21900827],\n",
       "       [0.3677686 , 0.35950413, 0.38016528, ..., 0.2644628 , 0.2768595 ,\n",
       "        0.28099173],\n",
       "       [0.61157024, 0.6446281 , 0.6570248 , ..., 0.17768595, 0.2107438 ,\n",
       "        0.2231405 ],\n",
       "       ...,\n",
       "       [0.41322315, 0.4752066 , 0.4338843 , ..., 0.24793388, 0.41322315,\n",
       "        0.48347107],\n",
       "       [0.6446281 , 0.69008267, 0.70247936, ..., 0.11157025, 0.10743801,\n",
       "        0.11983471],\n",
       "       [0.09917355, 0.11983471, 0.1570248 , ..., 0.7066116 , 0.73966944,\n",
       "        0.77272725]], dtype=float32)"
      ]
     },
     "execution_count": 5,
     "metadata": {},
     "output_type": "execute_result"
    }
   ],
   "source": [
    "dataset.data"
   ]
  },
  {
   "cell_type": "code",
   "execution_count": 6,
   "id": "2558df34",
   "metadata": {},
   "outputs": [
    {
     "data": {
      "text/plain": [
       "array([ 3, 38, 27, 18, 19, 20, 13, 11, 18, 16, 22, 34, 17, 14, 37, 18, 30,\n",
       "       15, 36,  1, 29, 32, 38, 29, 34, 10, 13, 36, 20, 21, 10, 11,  0,  7,\n",
       "       24, 16, 24, 27, 39, 15, 17,  4,  9,  8, 32,  8, 15, 19, 29,  5, 35,\n",
       "       21, 17, 27, 33, 26, 33,  5,  0, 37, 38, 35,  5,  9, 24, 23, 25, 37,\n",
       "       11, 29, 16,  6,  4,  1,  1, 13,  1, 14, 30, 16,  1, 13,  5, 23, 28,\n",
       "       32,  8, 33, 28, 35, 26, 16,  6, 17, 35, 24, 16, 24, 36,  6,  3,  9,\n",
       "       10,  0, 22,  1, 34, 12, 18, 23,  1, 27,  3, 15,  2, 22, 17, 26, 14,\n",
       "       23, 23, 26, 18, 10,  4,  3, 29,  3, 26, 21,  7, 19, 25,  9, 32, 37,\n",
       "        7, 12, 23, 26,  6, 28, 20, 25, 13, 25, 21, 28, 15, 29, 33,  2, 28,\n",
       "       36, 27,  3, 21,  7, 21, 31, 20, 31, 20, 31,  2, 11, 17, 30, 20, 16,\n",
       "       34, 13, 29,  8, 26, 18, 27, 25, 21, 29, 33, 36,  7,  5, 32,  8, 24,\n",
       "       15, 17, 36, 17, 34, 11, 35,  3, 37,  3,  3,  0, 26, 10, 31, 37, 10,\n",
       "       15, 38, 12, 32, 31, 25, 39, 22, 39,  2, 31, 34, 34, 22,  4, 27, 30,\n",
       "       31, 39, 10, 38, 22, 20, 20, 31, 18, 38, 36, 12, 15, 14, 11, 12,  2,\n",
       "        4, 39,  0,  9, 34,  8, 39,  5,  8,  0, 35, 25, 19, 14,  5, 23,  6,\n",
       "       37,  2, 15, 18, 30, 12,  9, 19, 38,  8, 14, 29, 30, 39, 14,  6, 19,\n",
       "        6,  7, 12,  6, 28, 12, 33, 16,  9, 21, 38, 18, 28, 25,  5, 38, 14,\n",
       "       18, 30,  7,  8, 34, 21, 38,  2, 39, 19,  9, 25, 23,  2,  2, 14, 28,\n",
       "       30, 13,  4, 22, 20, 16, 24,  7, 33, 33, 26, 12, 35, 19, 25,  1, 30,\n",
       "        0,  2, 11,  9, 36,  5, 17, 13, 21, 22,  4, 17, 28, 36, 27, 35,  1,\n",
       "        3, 37, 19, 36, 15, 20, 24, 27, 14, 11,  0, 30, 35, 32, 32, 23, 29,\n",
       "       10,  0, 31, 28,  9, 16,  6, 26, 23, 10, 34, 10, 22,  7, 12, 27, 24,\n",
       "       32,  4,  5, 37, 37, 13, 11, 33,  4, 39,  0, 11, 19, 22, 31, 24, 39,\n",
       "       13,  4,  7,  8,  6, 32, 33,  1, 35])"
      ]
     },
     "execution_count": 6,
     "metadata": {},
     "output_type": "execute_result"
    }
   ],
   "source": [
    "dataset.target"
   ]
  },
  {
   "cell_type": "code",
   "execution_count": 7,
   "id": "12f80acc",
   "metadata": {},
   "outputs": [],
   "source": [
    "train_faces = dataset.data[:350,:]\n",
    "test_faces = dataset.data[350:,:]\n",
    "train_answers = dataset.target[:350]\n",
    "test_answers = dataset.target[350:]"
   ]
  },
  {
   "cell_type": "code",
   "execution_count": 10,
   "id": "7df1b074",
   "metadata": {},
   "outputs": [],
   "source": [
    "\n",
    "from sklearn.decomposition import PCA as RandomizedPCA\n",
    "n_components = 25\n",
    "Rpca = RandomizedPCA(n_components=n_components, whiten= True, random_state = 101).fit(train_faces)\n"
   ]
  },
  {
   "cell_type": "code",
   "execution_count": 20,
   "id": "801f18e0",
   "metadata": {},
   "outputs": [
    {
     "name": "stdout",
     "output_type": "stream",
     "text": [
      "Explained variance by 25 components: 00.794\n"
     ]
    }
   ],
   "source": [
    "print(\"Explained variance by %i components: 0%.3f\" % (n_components, np.sum(Rpca.explained_variance_ratio_)))\n",
    "compressed_train_faces = Rpca.transform(train_faces)\n",
    "compressed_test_faces = Rpca.transform(test_faces)"
   ]
  },
  {
   "cell_type": "markdown",
   "id": "19ffeaa8",
   "metadata": {},
   "source": [
    "The RandomizedPCA class is an approximate PCA version, which work better when the dataset is large. The decomposition creates 25\n",
    "new variables(n_components parameter) and whitening, removing some constant noise(created by textual and photo granularity) and\n",
    "irrelevant information from the images in a different way from the filter."
   ]
  },
  {
   "cell_type": "code",
   "execution_count": 19,
   "id": "3af82f34",
   "metadata": {},
   "outputs": [
    {
     "name": "stdout",
     "output_type": "stream",
     "text": [
      "We are looking for face id=34\n"
     ]
    },
    {
     "data": {
      "image/png": "[encoded data removed]",
      "text/plain": [
       "<Figure size 432x288 with 1 Axes>"
      ]
     },
     "metadata": {
      "needs_background": "light"
     },
     "output_type": "display_data"
    }
   ],
   "source": [
    "import matplotlib.pyplot as plt\n",
    "photo = 17 # this is the photo in the test set\n",
    "print(\"We are looking for face id=%i\" % test_answers[photo])\n",
    "plt.subplot(1,2,1)\n",
    "plt.axis('off')\n",
    "plt.title('Unknown face '+ str(photo)+ ' in test set')\n",
    "plt.imshow(test_faces[photo].reshape(64,64), cmap=plt.cm.gray, interpolation='nearest')\n",
    "plt.show()"
   ]
  },
  {
   "cell_type": "code",
   "execution_count": 21,
   "id": "f6f07e5d",
   "metadata": {},
   "outputs": [
    {
     "name": "stdout",
     "output_type": "stream",
     "text": [
      "Best resembling face in train test: 34\n"
     ]
    }
   ],
   "source": [
    "mask = compressed_test_faces[photo]\n",
    "squard_error = np.sum((compressed_train_faces - mask)**2, axis=1)\n",
    "minimum_error_face = np.argmin(squard_error)\n",
    "most_resembling = list(np.where(squard_error < 20)[0])\n",
    "print('Best resembling face in train test: %i' % train_answers[minimum_error_face])"
   ]
  },
  {
   "cell_type": "code",
   "execution_count": 22,
   "id": "328c5aa1",
   "metadata": {},
   "outputs": [
    {
     "data": {
      "image/png": "[encoded data removed]",
      "text/plain": [
       "<Figure size 576x432 with 4 Axes>"
      ]
     },
     "metadata": {
      "needs_background": "light"
     },
     "output_type": "display_data"
    }
   ],
   "source": [
    "plt.figure(figsize=(8,6))\n",
    "plt.subplot(2,2,1)\n",
    "plt.axis('off')\n",
    "plt.title('Unknown face'+str(photo)+'in test set')\n",
    "plt.imshow(test_faces[photo].reshape(64,64), cmap=plt.cm.gray, interpolation='nearest')\n",
    "for k, m in enumerate(most_resembling[:3]):\n",
    "    plt.subplot(2,2,2+k)\n",
    "    plt.title('Match in train set no.'+str(m))\n",
    "    plt.axis('off')\n",
    "    plt.imshow(train_faces[m].reshape(64,64), cmap=plt.cm.gray, interpolation='nearest')\n",
    "plt.show()"
   ]
  },
  {
   "cell_type": "code",
   "execution_count": null,
   "id": "0ad4b93c",
   "metadata": {},
   "outputs": [],
   "source": []
  }
 ],
 "metadata": {
  "kernelspec": {
   "display_name": "Python 3",
   "language": "python",
   "name": "python3"
  },
  "language_info": {
   "codemirror_mode": {
    "name": "ipython",
    "version": 3
   },
   "file_extension": ".py",
   "mimetype": "text/x-python",
   "name": "python",
   "nbconvert_exporter": "python",
   "pygments_lexer": "ipython3",
   "version": "3.8.8"
  }
 },
 "nbformat": 4,
 "nbformat_minor": 5
}

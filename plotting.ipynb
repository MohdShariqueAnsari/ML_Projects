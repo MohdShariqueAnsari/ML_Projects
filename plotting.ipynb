{
 "cells": [
  {
   "cell_type": "code",
   "execution_count": 7,
   "id": "371052aa",
   "metadata": {},
   "outputs": [],
   "source": [
    "from videocapture import df\n",
    "import bokeh\n",
    "from datetime import datetime\n",
    "\n",
    "from bokeh.plotting import figure, show, output_file\n",
    "from bokeh.models import HoverTool, ColumnDataSource\n",
    "\n",
    "# we need to formate date in datetimestring formate\n",
    "df[\"Start_string\"]=df[\"Start\"].dt.strftime(\"%Y-%m-%d %H:%M:%S\")\n",
    "df[\"End_string\"]=df[\"End\"].dt.strftime(\"%Y-%m-%d %H:%M:%S\")\n",
    "\n",
    "cds = ColumnDataSource(df)\n",
    "\n",
    "p=figure(x_axis_type='datetime', height=500, width=1000,title=\"Motion Graph\")\n",
    "p.yaxis.minor_tick_line_color=None\n",
    "p.yaxis.ticker.desired_num_ticks=1\n",
    "\n",
    "hover = HoverTool(tooltips=[(\"Start\",\"@Start_string\"),(\"End\",\"@End_string\")])\n",
    "p.add_tools(hover)\n",
    "q=p.quad(left='Start', right='End', bottom=0,top=1, color='green', source=cds)\n",
    "\n",
    "output_file(\"Graph9.html\")\n",
    "show(p)\n"
   ]
  },
  {
   "cell_type": "code",
   "execution_count": 4,
   "id": "25e3a7ea",
   "metadata": {},
   "outputs": [],
   "source": []
  },
  {
   "cell_type": "code",
   "execution_count": null,
   "id": "efa57b87",
   "metadata": {},
   "outputs": [],
   "source": []
  }
 ],
 "metadata": {
  "kernelspec": {
   "display_name": "Python 3",
   "language": "python",
   "name": "python3"
  },
  "language_info": {
   "codemirror_mode": {
    "name": "ipython",
    "version": 3
   },
   "file_extension": ".py",
   "mimetype": "text/x-python",
   "name": "python",
   "nbconvert_exporter": "python",
   "pygments_lexer": "ipython3",
   "version": "3.8.8"
  }
 },
 "nbformat": 4,
 "nbformat_minor": 5
}
